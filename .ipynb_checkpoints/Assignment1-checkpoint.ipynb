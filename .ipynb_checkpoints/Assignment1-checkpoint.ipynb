{
 "cells": [
  {
   "cell_type": "code",
   "execution_count": null,
   "id": "5f216135",
   "metadata": {},
   "outputs": [],
   "source": [
    "import random\n",
    "data = input(\"enter data : \")\n",
    "\n",
    "splitDataIndex =  random.randint(0,len(data))\n",
    "splitData = data.replace(data[splitDataIndex],\"\")\n",
    "\n",
    "\n",
    "splitDataIndex =  random.randint(0,len(splitData))\n",
    "splitData = splitData.replace(splitData[splitDataIndex],\"\")\n",
    "\n",
    "\n",
    "splitData = splitData[::-1]\n",
    "print(splitData)\n",
    "\n",
    "\n"
   ]
  },
  {
   "cell_type": "code",
   "execution_count": 3,
   "id": "c01883bd",
   "metadata": {},
   "outputs": [
    {
     "name": "stdout",
     "output_type": "stream",
     "text": [
      "enter number 1 :8\n",
      "enter number 2 :99\n",
      " Multiply :  8 * 99 = 792 \n",
      " Addition :  8 + 99 = 107 \n",
      " Divison :  8 / 99 = 0.08080808080808081 \n",
      " Subraction :  8 - 99 = -91 \n"
     ]
    }
   ],
   "source": [
    "x = int(input(\"enter number 1 :\"))\n",
    "y = int(input(\"enter number 2 :\"))\n",
    "\n",
    "\n",
    "print(\" Multiply :  {} * {} = {} \".format(x,y,(x*y)))\n",
    "print(\" Addition :  {} + {} = {} \".format(x,y,(x+y)))\n",
    "print(\" Divison :  {} / {} = {} \".format(x,y,(x/y)))\n",
    "print(\" Subraction :  {} - {} = {} \".format(x,y,(x-y)))\n",
    "\n",
    "\n",
    "\n"
   ]
  },
  {
   "cell_type": "code",
   "execution_count": null,
   "id": "bb7b952c",
   "metadata": {},
   "outputs": [],
   "source": [
    "inputValue = input(\"enter string :\")\n",
    "\n",
    "inputValue = inputValue.replace(\"python\",\"pythons\")\n",
    "\n",
    "print(inputValue)\n"
   ]
  },
  {
   "cell_type": "code",
   "execution_count": null,
   "id": "f27d7f74",
   "metadata": {},
   "outputs": [],
   "source": [
    "marks = int(input(\"Enter class score : \"))\n",
    "\n",
    "if(marks<=100 and marks>=90):\n",
    "    print(\"Grade = A\")\n",
    "elif(marks<=89 and marks>=80):\n",
    "     print(\"Grade = B\")\n",
    "elif(marks<=79 and marks>=70):\n",
    "     print(\"Grade = C\") \n",
    "elif(marks<=69 and marks>=60):\n",
    "     print(\"Grade = D\")\n",
    "elif(marks<=59 and marks>=0):\n",
    "     print(\"Grade = F\")\n",
    "\n",
    "\n"
   ]
  },
  {
   "cell_type": "code",
   "execution_count": null,
   "id": "d1192970",
   "metadata": {},
   "outputs": [],
   "source": []
  }
 ],
 "metadata": {
  "kernelspec": {
   "display_name": "Python 3 (ipykernel)",
   "language": "python",
   "name": "python3"
  },
  "language_info": {
   "codemirror_mode": {
    "name": "ipython",
    "version": 3
   },
   "file_extension": ".py",
   "mimetype": "text/x-python",
   "name": "python",
   "nbconvert_exporter": "python",
   "pygments_lexer": "ipython3",
   "version": "3.9.13"
  }
 },
 "nbformat": 4,
 "nbformat_minor": 5
}
