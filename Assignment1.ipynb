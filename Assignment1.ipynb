{
 "cells": [
  {
   "cell_type": "code",
   "execution_count": 1,
   "id": "5f216135",
   "metadata": {},
   "outputs": [
    {
     "name": "stdout",
     "output_type": "stream",
     "text": [
      "enter data : pythonuser\n",
      "resuotyp\n"
     ]
    }
   ],
   "source": [
    "import random\n",
    "data = input(\"enter data : \")\n",
    "\n",
    "splitDataIndex =  random.randint(0,len(data))\n",
    "splitData = data.replace(data[splitDataIndex],\"\")\n",
    "\n",
    "\n",
    "splitDataIndex =  random.randint(0,len(splitData))\n",
    "splitData = splitData.replace(splitData[splitDataIndex],\"\")\n",
    "\n",
    "\n",
    "splitData = splitData[::-1]\n",
    "print(splitData)\n",
    "\n",
    "\n"
   ]
  },
  {
   "cell_type": "code",
   "execution_count": 2,
   "id": "c01883bd",
   "metadata": {},
   "outputs": [
    {
     "name": "stdout",
     "output_type": "stream",
     "text": [
      "enter number 1 :55\n",
      "enter number 2 :22\n",
      " Multiply :  55 * 22 = 1210 \n",
      " Addition :  55 + 22 = 77 \n",
      " Divison :  55 / 22 = 2.5 \n",
      " Subraction :  55 - 22 = 33 \n"
     ]
    }
   ],
   "source": [
    "x = int(input(\"enter number 1 :\"))\n",
    "y = int(input(\"enter number 2 :\"))\n",
    "\n",
    "\n",
    "print(\" Multiply :  {} * {} = {} \".format(x,y,(x*y)))\n",
    "print(\" Addition :  {} + {} = {} \".format(x,y,(x+y)))\n",
    "print(\" Divison :  {} / {} = {} \".format(x,y,(x/y)))\n",
    "print(\" Subraction :  {} - {} = {} \".format(x,y,(x-y)))\n",
    "\n",
    "\n",
    "\n"
   ]
  },
  {
   "cell_type": "code",
   "execution_count": 3,
   "id": "bb7b952c",
   "metadata": {},
   "outputs": [
    {
     "name": "stdout",
     "output_type": "stream",
     "text": [
      "enter string :hello user python\n",
      "hello user pythons\n"
     ]
    }
   ],
   "source": [
    "inputValue = input(\"enter string :\")\n",
    "\n",
    "inputValue = inputValue.replace(\"python\",\"pythons\")\n",
    "\n",
    "print(inputValue)\n"
   ]
  },
  {
   "cell_type": "code",
   "execution_count": 4,
   "id": "f27d7f74",
   "metadata": {},
   "outputs": [
    {
     "name": "stdout",
     "output_type": "stream",
     "text": [
      "Enter marks : 77\n",
      "class Grade : C\n"
     ]
    }
   ],
   "source": [
    "marks = int(input(\"Enter marks : \"))\n",
    "grade=\"\"\n",
    "if( marks>=90 and marks<=100 ):\n",
    "    grade='A'\n",
    "elif( marks>=80 and marks<=89 ):\n",
    "    grade='B'\n",
    "elif( marks>=70 and marks<=79 ):\n",
    "    grade='C'\n",
    "elif( marks>=60 and marks<=69 ):\n",
    "    grade='D'\n",
    "elif( marks>=0 and marks<=59 ):\n",
    "    grade='F'\n",
    "    \n",
    "print(\"class Grade : \"+grade)\n",
    "\n",
    "\n"
   ]
  },
  {
   "cell_type": "code",
   "execution_count": null,
   "id": "bf8dbdbc",
   "metadata": {},
   "outputs": [],
   "source": []
  }
 ],
 "metadata": {
  "kernelspec": {
   "display_name": "Python 3 (ipykernel)",
   "language": "python",
   "name": "python3"
  },
  "language_info": {
   "codemirror_mode": {
    "name": "ipython",
    "version": 3
   },
   "file_extension": ".py",
   "mimetype": "text/x-python",
   "name": "python",
   "nbconvert_exporter": "python",
   "pygments_lexer": "ipython3",
   "version": "3.9.13"
  }
 },
 "nbformat": 4,
 "nbformat_minor": 5
}
